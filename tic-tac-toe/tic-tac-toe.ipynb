{
 "cells": [
  {
   "cell_type": "markdown",
   "metadata": {},
   "source": [
    "In this program, we're going to implement the tic-tac-toe game."
   ]
  },
  {
   "cell_type": "markdown",
   "metadata": {},
   "source": [
    "Firstly, we import the required libraries."
   ]
  },
  {
   "cell_type": "code",
   "execution_count": null,
   "metadata": {},
   "outputs": [],
   "source": [
    "#tic tac toe implementation with minimax algorithm \n",
    "import math\n",
    "import numpy as np"
   ]
  },
  {
   "cell_type": "markdown",
   "metadata": {},
   "source": [
    "A class is needed to implement the necessary attributes and methods in it. We need the __init__ method to initialize the class. In this initialization, we define the empty game board, with '#' as the blank symbol, and n as the size of the board, which is 3*3."
   ]
  },
  {
   "cell_type": "code",
   "execution_count": null,
   "metadata": {},
   "outputs": [],
   "source": [
    "# the class with the required methods to play tic-tac-toe\n",
    "class Tic_Tac_Toe():\n",
    "    \n",
    "    \n",
    "    # method to initialize the class   \n",
    "    def __init__ (self):\n",
    "        self.game_board = [['#', '#', '#'], ['#', '#', '#'], ['#', '#', '#']]   #the game board is empty at first. We show the blank spaces with '#'\n",
    "        self.n = 3  # the tic-tac-toe board is 3*3"
   ]
  },
  {
   "cell_type": "markdown",
   "metadata": {},
   "source": [
    "The terminal test method would check if the game is over. This would mean if the board is full or one player has won the game."
   ]
  },
  {
   "cell_type": "code",
   "execution_count": null,
   "metadata": {},
   "outputs": [
    {
     "ename": "",
     "evalue": "",
     "output_type": "error",
     "traceback": [
      "\u001b[1;31mRunning cells with 'Python 3.10.5 64-bit' requires ipykernel package.\n",
      "\u001b[1;31mRun the following command to install 'ipykernel' into the Python environment. \n",
      "\u001b[1;31mCommand: '/usr/local/bin/python3 -m pip install ipykernel -U --user --force-reinstall'"
     ]
    }
   ],
   "source": [
    "    # terminal test would check if the game is over (whether the board is full, or one opponent wins)            \n",
    "    def terminal_test(self, state):\n",
    "        cnt_x = 0   # to count the x and os on the board\n",
    "        cnt_o = 0\n",
    "        \n",
    "        if len(self.actions(state)) == 0:   # check whether the game board is full or not   \n",
    "            return True\n",
    "        \n",
    "        for i in range(self.n):     # check whether they are 3 x or os on right diagonal \n",
    "            if state[i][i] == 'x':\n",
    "                cnt_x+=1\n",
    "            elif state[i][i] == 'o':\n",
    "                cnt_o += 1\n",
    "            if cnt_o == 3 or cnt_x == 3:\n",
    "                return True\n",
    "            \n",
    "        cnt_x = 0   # set the counters back to 0 \n",
    "        cnt_o = 0 \n",
    "        \n",
    "        for i in range(self.n):     # check whether they are 3 x or os on left diagonal \n",
    "            if state[i][self.n - i - 1] == 'x':\n",
    "                cnt_x+=1\n",
    "            elif state[i][self.n - i - 1] == 'o':\n",
    "                cnt_o += 1\n",
    "            if cnt_o == 3 or cnt_x == 3:\n",
    "                return True    \n",
    "        \n",
    "        for row in state:   # to check the rows\n",
    "            if len(set(row)) == 1 and row[0] != '#':    # we turn the row to a set, if the 3 elements are the same, the set would have only one element, and we check that the one element wouldn't be blank\n",
    "                return True\n",
    "        \n",
    "        column = []  \n",
    "        columns = []\n",
    "        \n",
    "        for j in range(self.n):     # we turn the columns to a list to check them further like the rows \n",
    "            column = []\n",
    "            for i in range(self.n):\n",
    "                column.append(state[i][j])\n",
    "            columns.append(column)\n",
    "        \n",
    "\n",
    "        for column in columns:  # to check the columns\n",
    "            if len(set(column)) == 1 and column[0] != '#':  # we turn the column to a set, if the 3 elements are the same, the set would have only one element, and we check that the one element wouldn't be blank\n",
    "                return True\n",
    "    \n",
    "        else:\n",
    "            return False    # all other states would result as non-terminal\n"
   ]
  },
  {
   "cell_type": "markdown",
   "metadata": {},
   "source": [
    "The actions method would return the position od the blank spaces in a list named as 'blank'. That would be achieved by checking the board and find the position of the spaces that haven't been filled with 'x' nor 'o'"
   ]
  },
  {
   "cell_type": "code",
   "execution_count": null,
   "metadata": {},
   "outputs": [],
   "source": [
    "    # the actions method would return the position of blank spaces that can be filled\n",
    "    def actions(self, state):\n",
    "        blank = []\n",
    "        for i in range(self.n):\n",
    "            for j in range(self.n):\n",
    "                if state[i][j] != 'o' and state[i][j] != 'x':\n",
    "                    blank.append((i,j))     # fill the blank list with the position coordinates of the blank spaces     \n",
    "        return blank"
   ]
  },
  {
   "cell_type": "markdown",
   "metadata": {},
   "source": [
    "The utility function finds the utility of each endgame. if the x wins, it would be 1, draw would be 1/2, and if o wins, it would be 0. The implementation of the method looks very similar to terminal test method."
   ]
  },
  {
   "cell_type": "code",
   "execution_count": null,
   "metadata": {},
   "outputs": [],
   "source": [
    "    # the utility function works just like terminal test method but it returns the utilities, 0 for when o wins, 1/2 for draw, 1 for when x wins, the other lines have been explained before \n",
    "    def utility(self, state):\n",
    "        \n",
    "        cnt_x = 0\n",
    "        cnt_o = 0\n",
    "        \n",
    "        for i in range(self.n):\n",
    "            if state[i][i] == 'x':\n",
    "                cnt_x+=1\n",
    "            if cnt_x == 3:\n",
    "                return 1\n",
    "            elif state[i][i] == 'o':\n",
    "                cnt_o += 1\n",
    "            if cnt_o == 3:\n",
    "                return 0\n",
    "            \n",
    "        cnt_x = 0\n",
    "        cnt_o = 0 \n",
    "        \n",
    "        for i in range(self.n):\n",
    "            if state[i][self.n - i - 1] == 'x':\n",
    "                cnt_x+=1\n",
    "            if cnt_x == 3:\n",
    "                return 1\n",
    "            elif state[i][self.n - i - 1] == 'o':\n",
    "                cnt_o += 1\n",
    "            if cnt_o == 3:\n",
    "                return 0     \n",
    "            \n",
    "            \n",
    "        for row in state:\n",
    "            if len(set(row)) == 1 and row[0] == 'x':\n",
    "                return 1\n",
    "            elif len(set(row)) == 1 and row[0] == 'o':\n",
    "                return 0\n",
    "        \n",
    "        column = []\n",
    "        columns = []\n",
    "        \n",
    "        for j in range(self.n):\n",
    "            column = []\n",
    "            for i in range(self.n):\n",
    "                column.append(state[i][j])\n",
    "            columns.append(column)\n",
    "        \n",
    "        for column in columns:\n",
    "            if len(set(column)) == 1 and column[0] == 'x':\n",
    "                return 1\n",
    "            if len(set(column)) == 1 and column[0] == 'o':\n",
    "                return 0\n",
    "\n",
    "        if len(self.actions(state)) == 0:    \n",
    "            return 1/2\n"
   ]
  },
  {
   "cell_type": "markdown",
   "metadata": {},
   "source": [
    "This method would take in a state, a position and a character and would insert the character into the given position in the given state. "
   ]
  },
  {
   "cell_type": "code",
   "execution_count": null,
   "metadata": {},
   "outputs": [],
   "source": [
    "    # result method would take the state, position and a character as the input and insert the character at the given position at the current state, then returns it\n",
    "    def result(self, state, position, char):\n",
    "        state[position[0]][position[1]] = char  # position is a list of tuples so position[0] would mean i and position[1] would mean  j\n",
    "        return state"
   ]
  },
  {
   "cell_type": "markdown",
   "metadata": {},
   "source": [
    "The max_value method, would traverse minimax tree to the leaves to find the optimal value for the max nodes recursively. Then it would return the optimal value accordingly. "
   ]
  },
  {
   "cell_type": "code",
   "execution_count": null,
   "metadata": {},
   "outputs": [],
   "source": [
    "    # this next three methods have been inspired by the recursive minimax pseudocode of the reference book                        \n",
    "    def max_value(self, state): # this method would recursively traverse the game till the end to find the values of each state for max nodes\n",
    "        char = 'x'\n",
    "        if self.terminal_test(state):\n",
    "            return self.utility(state)  # if the it is a terminal state the value would be same as utility\n",
    "        v = -math.inf\n",
    "        \n",
    "        for blank in self.actions(state):\n",
    "            v = max(v, self.min_value(self.result(np.copy(state),blank, char)))     # the max nodes must choose the maximum value from the min nodes of the level below in the minimax tree\n",
    "        return v   \n"
   ]
  },
  {
   "cell_type": "markdown",
   "metadata": {},
   "source": [
    "The min_value method, would traverse minimax tree to the leaves to find the optimal value for the min nodes recursively. Then it would return the optimal value accordingly. "
   ]
  },
  {
   "cell_type": "code",
   "execution_count": null,
   "metadata": {},
   "outputs": [],
   "source": [
    "    def min_value(self, state):     # this method would recursively traverse the game till the end to find the values of each state for min nodes\n",
    "        char = 'o'\n",
    "        if self.terminal_test(state):\n",
    "            return self.utility(state)  # if the it is a terminal state the value would be same as utility\n",
    "        v = +math.inf\n",
    "        \n",
    "        for blank in self.actions(state):\n",
    "            v = min(v, self.max_value(self.result(np.copy(state),blank, char)))   # the min nodes must choose the minimum value from the max nodes of the level below in the minimax tree\n",
    "        return v         \n"
   ]
  },
  {
   "cell_type": "markdown",
   "metadata": {},
   "source": [
    "Minimax method is responsible to make the optimal decision for the game. It would return the optimal action (the optimal postion of inserting a character)"
   ]
  },
  {
   "cell_type": "code",
   "execution_count": null,
   "metadata": {},
   "outputs": [],
   "source": [
    "    # the minimax method would decide which action to choose between all the actions\n",
    "    def Minimax(self,state):\n",
    "        temp_v = -math.inf\n",
    "        for blank in self.actions(state):\n",
    "            v = self.min_value(self.result(np.copy(state), blank, 'x'))    # the computer plays as max (x)\n",
    "            if v > temp_v:\n",
    "                temp_v = v\n",
    "                b = blank      # to find the best action (as the position of putting the next 'x')\n",
    "        return b\n"
   ]
  },
  {
   "cell_type": "markdown",
   "metadata": {},
   "source": [
    "This method would make the players take turns to play. The program (computer) would start first by putting an x on the game board. Then the user should enter their chosen coordinates and an o would be inserted into the board. The game would move on till terminal test would be true and then the game is over. "
   ]
  },
  {
   "cell_type": "code",
   "execution_count": null,
   "metadata": {},
   "outputs": [],
   "source": [
    "    # this method would make turns possible \n",
    "    def play(self):\n",
    "        while not self.terminal_test(self.game_board): #till the game is not over \n",
    "            position = self.Minimax(self.game_board)    # find the optimal decision for max(the computer)\n",
    "            self.game_board[position[0]][position[1]] = 'x' # put the 'x' on the best found position on the game board\n",
    "            print(self.game_board)      \n",
    "            print(\"- - - - - -\")\n",
    "            if self.terminal_test(self.game_board):    # check whether the game is over after putting x on the board\n",
    "                print(\"game over\")\n",
    "                return\n",
    "            i = int(input(\"Enter the row: \"))   # take the position of o from the user \n",
    "            j = int(input(\"Enter the column: \"))\n",
    "            self.game_board[i][j] = 'o' # insert the o on the game board at the given position\n",
    "            print(self.game_board)\n",
    "        print(self.game_board)    \n"
   ]
  },
  {
   "cell_type": "markdown",
   "metadata": {},
   "source": [
    "The driver code to run the game"
   ]
  },
  {
   "cell_type": "code",
   "execution_count": null,
   "metadata": {},
   "outputs": [],
   "source": [
    "# the driver code \n",
    "t = Tic_Tac_Toe()\n",
    "t.play()"
   ]
  }
 ],
 "metadata": {
  "kernelspec": {
   "display_name": "Python 3.10.5 64-bit",
   "language": "python",
   "name": "python3"
  },
  "language_info": {
   "name": "python",
   "version": "3.10.5"
  },
  "orig_nbformat": 4,
  "vscode": {
   "interpreter": {
    "hash": "aee8b7b246df8f9039afb4144a1f6fd8d2ca17a180786b69acc140d282b71a49"
   }
  }
 },
 "nbformat": 4,
 "nbformat_minor": 2
}
